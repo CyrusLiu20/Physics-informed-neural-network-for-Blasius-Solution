{
 "cells": [
  {
   "cell_type": "markdown",
   "id": "b0ca4c0d",
   "metadata": {},
   "source": [
    "# Governing equation (Laminar Blasius solution)\n",
    "$$2\\frac{\\partial^3 F}{\\partial \\eta^3}+\\frac{\\partial^2 F}{\\partial \\eta^2}F=0$$\n",
    "where $$F' = \\frac{U}{U_{e}} $$ and $$\\eta=y\\sqrt{\\frac{U_{e}}{\\nu x}}$$\n",
    "<br>\n",
    "<br>\n",
    "Boundary condition<br>\n",
    "(At wall)\n",
    "$$F(0)=F'(0)=0$$\n",
    "(At freestream)<br>\n",
    "$$F'(10)\\sim = 1$$\n",
    "<br>\n",
    "# Domain\n",
    "$$0<\\eta<1$$\n",
    "$$0<F'(\\eta)<10$$\n"
   ]
  },
  {
   "cell_type": "markdown",
   "id": "34d6f868",
   "metadata": {},
   "source": [
    "# Physics informed neural network on Blasius solution\n",
    "We can use a neural network to approximate $F(\\eta)$.\n",
    "<br>\n",
    "Denoting  $N(\\eta)$ as a non-linear operator with $\\eta$ as the input, which outputs our estimation of $F(\\eta)$\n",
    "<br>\n",
    "<br>\n",
    "With the governing equation and boundary conditions known, we hope the neural network respects the known physics. Thus, we construct a custom loss function, forcing the neural network into a physics informed neural network\n",
    "<br>\n",
    "<br>\n",
    "# PINN Loss function\n",
    "We can split the loss function into three components, namely governing equation, boundary condition and internal sampling\n",
    "<br>\n",
    "<br>\n",
    "$$MSE_{total} = MSE_{Blasius} + MSE_{BC} + MSE_{sample}$$\n",
    "where\n",
    "$$MSE_{Blasius}=\\frac{1}{N_{Blasius}}\\sum^{N_{Blasius}}_{i=1}|2\\frac{\\partial^3 F}{\\partial \\eta^3}+\\frac{\\partial^2 F}{\\partial \\eta^2}F-0|^2$$\n",
    "$$MSE_{sample}=\\frac{1}{N_{sample}}\\sum^{N_{sample}}_{i=1}|y(\\eta)-NN(\\eta)|^2$$\n",
    "<br>\n",
    "With modern deep learning infrastructure, the gradient of a function can be computed easily through autograd.grad in pytorch"
   ]
  },
  {
   "cell_type": "code",
   "execution_count": 1,
   "id": "dbbd9a71",
   "metadata": {},
   "outputs": [
    {
     "name": "stdout",
     "output_type": "stream",
     "text": [
      "cpu\n"
     ]
    }
   ],
   "source": [
    "import torch\n",
    "import torch.autograd as autograd\n",
    "import torch.nn as nn\n",
    "\n",
    "import matplotlib.pyplot as plt\n",
    "\n",
    "import numpy as np\n",
    "import time\n",
    "from pyDOE import lhs\n",
    "import scipy.io\n",
    "\n",
    "# Torch default type\n",
    "torch.set_default_dtype(torch.float)\n",
    "\n",
    "# Random seed\n",
    "torch.manual_seed(1234)\n",
    "np.random.seed(1234)\n",
    "\n",
    "# Device configuration\n",
    "device = torch.device(\"cuda\" if torch.cuda.is_available() else \"cpu\")\n",
    "\n",
    "print(device)\n",
    "if device==\"cuda\":\n",
    "    print(torch.cuda.get_device_name())"
   ]
  },
  {
   "cell_type": "markdown",
   "id": "9b0b2536",
   "metadata": {},
   "source": [
    "# Discrete Blasius solution raw data\n",
    "Generated from matlab solver (Runge_Kutta)<br>\n",
    "Link can be found here:\n",
    "https://uk.mathworks.com/matlabcentral/fileexchange/58996-blaisus-equation-solution"
   ]
  },
  {
   "cell_type": "code",
   "execution_count": 2,
   "id": "afd20773",
   "metadata": {},
   "outputs": [
    {
     "data": {
      "text/plain": [
       "dict_keys(['__header__', '__version__', '__globals__', 'eta', 'y1', 'y2', 'y3'])"
      ]
     },
     "execution_count": 2,
     "metadata": {},
     "output_type": "execute_result"
    }
   ],
   "source": [
    "data = scipy.io.loadmat(\"Data/Blasius.mat\")\n",
    "data.keys()"
   ]
  },
  {
   "cell_type": "code",
   "execution_count": 3,
   "id": "866c5d50",
   "metadata": {},
   "outputs": [
    {
     "name": "stdout",
     "output_type": "stream",
     "text": [
      "torch.Size([1001, 1]) torch.Size([1001, 1])\n"
     ]
    },
    {
     "data": {
      "text/plain": [
       "Text(0.5, 0, '$F(\\\\eta)$')"
      ]
     },
     "execution_count": 3,
     "metadata": {},
     "output_type": "execute_result"
    },
    {
     "data": {
      "image/png": "[encoded data removed]",
      "text/plain": [
       "<Figure size 640x480 with 1 Axes>"
      ]
     },
     "metadata": {},
     "output_type": "display_data"
    }
   ],
   "source": [
    "eta = torch.from_numpy(data[\"eta\"]).view(-1,1)\n",
    "f = torch.from_numpy(data[\"y1\"]).view(-1,1)\n",
    "print(f.shape,eta.shape)\n",
    "plt.plot(f,eta)\n",
    "plt.title(\"True Blasius solution\")\n",
    "plt.ylabel(r\"$\\eta$\")\n",
    "plt.xlabel(r\"$F(\\eta)$\")"
   ]
  },
  {
   "cell_type": "markdown",
   "id": "188bdedd",
   "metadata": {},
   "source": [
    "# Parameters"
   ]
  },
  {
   "cell_type": "code",
   "execution_count": 4,
   "id": "bf6d67b4",
   "metadata": {},
   "outputs": [],
   "source": [
    "layers = np.array([1,50,50,50,50,50,50,1])# neural network layers\n",
    "lr = 5e-4\n",
    "Ns = 500 # Number of internal sample points\n",
    "Nf = 5000 # Number of collocation points for governing equation\n",
    "steps=10000"
   ]
  },
  {
   "cell_type": "markdown",
   "id": "c766e24d",
   "metadata": {},
   "source": [
    "# Testing set"
   ]
  },
  {
   "cell_type": "code",
   "execution_count": 5,
   "id": "2359f8ec",
   "metadata": {},
   "outputs": [
    {
     "name": "stdout",
     "output_type": "stream",
     "text": [
      "x_test shape: torch.Size([1001, 1]) test shape: torch.Size([1001, 1])\n",
      "Lower bound :  [0.] Upper bound :  [10.]\n"
     ]
    }
   ],
   "source": [
    "x_test = eta\n",
    "y_test = f\n",
    "lb = x_test[0]\n",
    "ub = x_test[-1]\n",
    "print(\"x_test shape:\",x_test.shape,\"test shape:\",y_test.shape)\n",
    "print(\"Lower bound : \",lb.numpy(),\"Upper bound : \",ub.numpy())"
   ]
  },
  {
   "cell_type": "markdown",
   "id": "6a9beaf2",
   "metadata": {},
   "source": [
    "# Training set"
   ]
  },
  {
   "cell_type": "code",
   "execution_count": 6,
   "id": "8d903a7c",
   "metadata": {},
   "outputs": [
    {
     "name": "stdout",
     "output_type": "stream",
     "text": [
      "Min x shape :  torch.Size([1, 1]) Min y shape :  torch.Size([1, 1])\n",
      "Max x shape :  torch.Size([1, 1]) Max y shape :  torch.Size([1, 1])\n",
      "x train wall shape :  torch.Size([1, 1]) y train wall shape :  torch.Size([1, 1])\n",
      "x train freestream shape :  torch.Size([1, 1])\n",
      "x train nf shape :  torch.Size([5002, 1])\n",
      "x train sample shape :  torch.Size([500, 1]) y train sample shape :  torch.Size([500, 1])\n"
     ]
    }
   ],
   "source": [
    "# Boundary condition\n",
    "# x = 0\n",
    "min_x = lb[:,None]\n",
    "min_y = torch.zeros(min_x.shape[0],1)\n",
    "\n",
    "# x = 10\n",
    "max_x = ub[:,None]\n",
    "max_y = y_test[-1][:,None]\n",
    "\n",
    "x_train_wall = min_x\n",
    "y_train_wall = min_y\n",
    "\n",
    "x_train_freestream = max_x\n",
    "\n",
    "print(\"Min x shape : \",min_x.shape,\"Min y shape : \",min_y.shape)\n",
    "print(\"Max x shape : \",max_x.shape,\"Max y shape : \",max_y.shape)\n",
    "print(\"x train wall shape : \",x_train_wall.shape,\"y train wall shape : \",y_train_wall.shape)\n",
    "print(\"x train freestream shape : \",x_train_freestream.shape)#,\"y train freestream shape : \",y_train_freestream.shape)\n",
    "\n",
    "# Latin hypercube sampling for collocation points\n",
    "x_train_nf = (lb + (ub - lb)*lhs(1,Nf))\n",
    "x_train_nf = torch.vstack([x_train_nf,x_train_wall,x_train_freestream])\n",
    "print(\"x train nf shape : \",x_train_nf.shape)\n",
    "\n",
    "# Internal sample point\n",
    "idx = np.random.choice(eta.shape[0],size=Ns,replace=False)\n",
    "x_train_sample = eta[idx]\n",
    "y_train_sample = f[idx]\n",
    "print(\"x train sample shape : \",x_train_sample.shape,\"y train sample shape : \",y_train_sample.shape)\n"
   ]
  },
  {
   "cell_type": "code",
   "execution_count": 7,
   "id": "548d7955",
   "metadata": {},
   "outputs": [
    {
     "name": "stdout",
     "output_type": "stream",
     "text": [
      "f_hat shape :  torch.Size([5002, 1])\n"
     ]
    }
   ],
   "source": [
    "# Boundary condition\n",
    "X_train_wall = (x_train_wall).float().to(device)\n",
    "Y_train_wall = (y_train_wall).float().to(device)\n",
    "X_train_freestream = (x_train_freestream).float().to(device)\n",
    "\n",
    "# Internal sampling\n",
    "X_train_sample = (x_train_sample).float().to(device)\n",
    "Y_train_sample = (y_train_sample).float().to(device)\n",
    "\n",
    "# Governing equation\n",
    "X_train_nf = (x_train_nf).float().to(device)\n",
    "f_hat = torch.zeros(X_train_nf.shape[0],1).float().to(device)\n",
    "\n",
    "# Testing\n",
    "X_test = (x_test).float().to(device)\n",
    "Y_test = (y_test).float().to(device)\n",
    "\n",
    "print(\"f_hat shape : \",f_hat.shape)"
   ]
  },
  {
   "cell_type": "code",
   "execution_count": 8,
   "id": "956ba5ac",
   "metadata": {},
   "outputs": [],
   "source": [
    "class PINN(nn.Module):\n",
    "    def __init__(self,layers):\n",
    "        super().__init__()\n",
    "        self.activation = nn.Tanh()\n",
    "        self.loss_function = nn.MSELoss()\n",
    "        self.linears = nn.ModuleList([nn.Linear(layers[i],layers[i+1]) for i in range(len(layers)-1)])\n",
    "        self.iter = 0\n",
    "        # Parameters initialisation\n",
    "        for i in range(len(layers)-1):\n",
    "            nn.init.xavier_normal_(self.linears[i].weight.data,gain=1.0)\n",
    "            nn.init.zeros_(self.linears[i].bias.data)\n",
    "    \n",
    "    def forward(self,x):\n",
    "        if not(torch.is_tensor(x)):\n",
    "            a = torch.from_numpy(x)\n",
    "\n",
    "        u_b = (ub).float().to(device)\n",
    "        l_b = (lb).float().to(device)\n",
    "        #preprocessing input \n",
    "        x = (x - l_b)/(u_b - l_b) #feature scaling\n",
    "        \n",
    "        a = x.float()\n",
    "        for i in range(len(layers)-2):\n",
    "            z = self.activation(a)\n",
    "            a = self.linears[i](z)\n",
    "        a = self.linears[-1](a)\n",
    "        \n",
    "        return a\n",
    "\n",
    "    def loss_BC_wall(self,x_BC):\n",
    "        g = x_BC.clone()\n",
    "        g.requires_grad = True\n",
    "        f = self.forward(g)\n",
    "        f_x = autograd.grad(f,g,torch.ones([g.shape[0],1]).to(device),retain_graph=True,create_graph=True)[0]\n",
    "        f_xx = autograd.grad(f_x,g,torch.ones(g.shape).to(device),create_graph=True)[0]\n",
    "        f_eta = f_x[:,[0]]\n",
    "        f_eta_eta = f_xx[:,[0]]     \n",
    "        \n",
    "        zero= torch.zeros(x_BC.shape[0],1)\n",
    "        loss_f = self.loss_function(f,zero) # f is equal to zero at wall\n",
    "        loss_f_eta = self.loss_function(f_eta,zero) # As f' is also equal to zero\n",
    "\n",
    "        return loss_f + loss_f_eta\n",
    "    \n",
    "    def loss_BC_freestream(self,x_BC):\n",
    "        g = x_BC.clone()\n",
    "        g.requires_grad = True\n",
    "        f = self.forward(g)\n",
    "        f_x = autograd.grad(f,g,torch.ones(g.shape).to(device),create_graph=True)[0]\n",
    "        f_eta = f_x[:,[0]]\n",
    "        \n",
    "        one = torch.ones(x_BC.shape[0],1)\n",
    "        loss_f_eta_freestream = self.loss_function(f_eta,one)\n",
    "        \n",
    "        return loss_f_eta_freestream\n",
    "    \n",
    "    def loss_PDE(self,x_PDE):\n",
    "        g = x_PDE.clone()\n",
    "        g.requires_grad = True\n",
    "        f = self.forward(g)\n",
    "        f_x = autograd.grad(f,g,torch.ones([x_PDE.shape[0],1]).to(device),retain_graph=True,create_graph=True)[0]\n",
    "        f_xx = autograd.grad(f_x,g,torch.ones(g.shape).to(device),retain_graph=True,create_graph=True)[0]\n",
    "        f_xxx = autograd.grad(f_xx,g,torch.ones(g.shape).to(device),create_graph=True)[0]\n",
    "        f_eta = f_x[:,[0]]\n",
    "        f_eta_eta = f_xx[:,[0]]        \n",
    "        f_eta_eta_eta = f_xxx[:,[0]]\n",
    "        \n",
    "        f = 2*f_eta_eta_eta + f_eta_eta*f\n",
    "        \n",
    "        loss_f = self.loss_function(f,f_hat)\n",
    "        \n",
    "        return loss_f\n",
    "    \n",
    "    def loss_sample(self,x_sample,y_sample):\n",
    "        return self.loss_function(self.forward(x_sample),y_sample)\n",
    "    \n",
    "    def loss(self,x_wall,x_freestream,x_PDE,x_sample,y_sample):\n",
    "        return (self.loss_BC_wall(x_wall) + self.loss_PDE(x_PDE)\n",
    "                + self.loss_BC_freestream(x_freestream) + self.loss_sample(x_sample,y_sample))\n",
    "    \n",
    "    'callable for optimizer'                                       \n",
    "    def closure(self):\n",
    "        \n",
    "        optimizer.zero_grad()       \n",
    "        loss = self.loss(X_train_wall, X_train_freestream, X_train_nf, X_train_sample, Y_train_sample)\n",
    "        loss.backward()\n",
    "        self.iter += 1\n",
    "        \n",
    "        if self.iter % 50 == 0:\n",
    "            test_loss = self.loss_function(self(X_test),Y_test)\n",
    "            print(\"Iteration: \",self.iter,loss,test_loss)\n",
    "\n",
    "        return loss  "
   ]
  },
  {
   "cell_type": "code",
   "execution_count": 9,
   "id": "066f272b",
   "metadata": {},
   "outputs": [
    {
     "name": "stdout",
     "output_type": "stream",
     "text": [
      "PINN(\n",
      "  (activation): Tanh()\n",
      "  (loss_function): MSELoss()\n",
      "  (linears): ModuleList(\n",
      "    (0): Linear(in_features=1, out_features=50, bias=True)\n",
      "    (1): Linear(in_features=50, out_features=50, bias=True)\n",
      "    (2): Linear(in_features=50, out_features=50, bias=True)\n",
      "    (3): Linear(in_features=50, out_features=50, bias=True)\n",
      "    (4): Linear(in_features=50, out_features=50, bias=True)\n",
      "    (5): Linear(in_features=50, out_features=50, bias=True)\n",
      "    (6): Linear(in_features=50, out_features=1, bias=True)\n",
      "  )\n",
      ")\n",
      "Iteration:  50 tensor(2.8199, grad_fn=<AddBackward0>) tensor(1.0469, grad_fn=<MseLossBackward0>)\n",
      "Iteration:  100 tensor(1.2058, grad_fn=<AddBackward0>) tensor(0.3261, grad_fn=<MseLossBackward0>)\n",
      "Iteration:  150 tensor(0.3103, grad_fn=<AddBackward0>) tensor(0.0401, grad_fn=<MseLossBackward0>)\n",
      "Iteration:  200 tensor(0.2411, grad_fn=<AddBackward0>) tensor(0.0258, grad_fn=<MseLossBackward0>)\n",
      "Iteration:  250 tensor(0.1498, grad_fn=<AddBackward0>) tensor(0.0269, grad_fn=<MseLossBackward0>)\n",
      "Iteration:  300 tensor(0.1079, grad_fn=<AddBackward0>) tensor(0.0190, grad_fn=<MseLossBackward0>)\n",
      "Iteration:  350 tensor(0.0472, grad_fn=<AddBackward0>) tensor(0.0055, grad_fn=<MseLossBackward0>)\n",
      "Iteration:  400 tensor(0.0120, grad_fn=<AddBackward0>) tensor(0.0009, grad_fn=<MseLossBackward0>)\n",
      "Iteration:  450 tensor(0.0052, grad_fn=<AddBackward0>) tensor(0.0008, grad_fn=<MseLossBackward0>)\n",
      "Iteration:  500 tensor(0.0043, grad_fn=<AddBackward0>) tensor(0.0005, grad_fn=<MseLossBackward0>)\n",
      "Iteration:  550 tensor(0.0041, grad_fn=<AddBackward0>) tensor(0.0007, grad_fn=<MseLossBackward0>)\n",
      "Training time: 47.43\n"
     ]
    }
   ],
   "source": [
    "Model = PINN(layers)\n",
    "Model.to(device)\n",
    "print(Model) # Model summary\n",
    "\n",
    "# 'L-BFGS Optimizer'\n",
    "optimizer = torch.optim.LBFGS(Model.parameters(), lr, \n",
    "                              max_iter = steps, \n",
    "                              max_eval = None, \n",
    "                              tolerance_grad = 1e-201, \n",
    "                              tolerance_change = 1e-201, \n",
    "                              history_size = 100, \n",
    "                              line_search_fn = 'strong_wolfe')\n",
    "\n",
    "\n",
    "start_time = time.time()\n",
    "\n",
    "optimizer.step(Model.closure)\n",
    "    \n",
    "    \n",
    "elapsed = time.time() - start_time                \n",
    "print('Training time: %.2f' % (elapsed))"
   ]
  },
  {
   "cell_type": "code",
   "execution_count": 10,
   "id": "d9365772",
   "metadata": {},
   "outputs": [],
   "source": [
    "g = X_test.clone()\n",
    "g.requires_grad = True\n",
    "y1 = Model(g)\n",
    "y2 = autograd.grad(y1,g,torch.ones([X_test.shape[0],1]).to(device),retain_graph=True,create_graph=True)[0]"
   ]
  },
  {
   "cell_type": "code",
   "execution_count": 11,
   "id": "ca6bf360",
   "metadata": {},
   "outputs": [
    {
     "data": {
      "text/plain": [
       "<matplotlib.legend.Legend at 0x224f8910040>"
      ]
     },
     "execution_count": 11,
     "metadata": {},
     "output_type": "execute_result"
    },
    {
     "data": {
      "image/png": "[encoded data removed]",
      "text/plain": [
       "<Figure size 640x480 with 1 Axes>"
      ]
     },
     "metadata": {},
     "output_type": "display_data"
    }
   ],
   "source": [
    "plt.plot(y_test.detach().numpy(),x_test.detach().numpy(),'b') # Real solution\n",
    "plt.plot(y1.detach().numpy(),eta,linestyle='--',dashes=(5, 10),color=\"r\") # predicted solution\n",
    "plt.title(\"Predicted vs true Blasius solution\")\n",
    "plt.ylabel(r\"$\\eta$\")\n",
    "plt.xlabel(r\"$F(\\eta)$\")\n",
    "plt.legend([r\"True $F(\\eta)$\",r\"Predicted $F(\\eta)$\"])"
   ]
  },
  {
   "cell_type": "code",
   "execution_count": 12,
   "id": "8cc9d3f2",
   "metadata": {},
   "outputs": [
    {
     "data": {
      "text/plain": [
       "<matplotlib.legend.Legend at 0x224f8ae9880>"
      ]
     },
     "execution_count": 12,
     "metadata": {},
     "output_type": "execute_result"
    },
    {
     "data": {
      "image/png": "[encoded data removed]",
      "text/plain": [
       "<Figure size 640x480 with 1 Axes>"
      ]
     },
     "metadata": {},
     "output_type": "display_data"
    }
   ],
   "source": [
    "f_eta = torch.from_numpy(data[\"y2\"]).view(-1,1)\n",
    "plt.plot(f_eta,eta,\"b\")\n",
    "plt.plot(y2.detach().numpy(),eta,linestyle='--',dashes=(5, 3),color=\"r\")\n",
    "plt.title(\"Predicted vs true boundary layer velocity profile\")\n",
    "plt.ylabel(r\"$eta$\")\n",
    "plt.xlabel(r\"$F(\\eta)$\")\n",
    "plt.legend([r\"True $F'(\\eta)$\",r\"Predicted $F'(\\eta)$\"])"
   ]
  }
 ],
 "metadata": {
  "kernelspec": {
   "display_name": "Python 3 (ipykernel)",
   "language": "python",
   "name": "python3"
  },
  "language_info": {
   "codemirror_mode": {
    "name": "ipython",
    "version": 3
   },
   "file_extension": ".py",
   "mimetype": "text/x-python",
   "name": "python",
   "nbconvert_exporter": "python",
   "pygments_lexer": "ipython3",
   "version": "3.9.13"
  }
 },
 "nbformat": 4,
 "nbformat_minor": 5
}
